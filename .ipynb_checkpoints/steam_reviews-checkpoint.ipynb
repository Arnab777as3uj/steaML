{
 "cells": [
  {
   "cell_type": "code",
   "execution_count": 1,
   "metadata": {
    "collapsed": true
   },
   "outputs": [],
   "source": [
    "import pandas as pd\n",
    "from pandas.io.json import json_normalize\n",
    "import json\n",
    "import os"
   ]
  },
  {
   "cell_type": "code",
   "execution_count": 2,
   "metadata": {
    "collapsed": true
   },
   "outputs": [],
   "source": [
    "path = \"D:\\Courses\\Spring 2019\\ETA\\Project\\steam_reviews-master\\data\\\\\"                                  \n",
    "file_list = [x for x in os.listdir(\"D:\\Courses\\Spring 2019\\ETA\\Project\\steam_reviews-master\\data\\\\\") if x.endswith(\".jsonlines\")]"
   ]
  },
  {
   "cell_type": "code",
   "execution_count": 3,
   "metadata": {},
   "outputs": [
    {
     "data": {
      "text/plain": [
       "'D:\\\\Courses\\\\Spring 2019\\\\ETA\\\\Project\\\\steam_reviews-master\\\\data\\\\'"
      ]
     },
     "execution_count": 3,
     "metadata": {},
     "output_type": "execute_result"
    }
   ],
   "source": [
    "path"
   ]
  },
  {
   "cell_type": "code",
   "execution_count": 4,
   "metadata": {},
   "outputs": [
    {
     "data": {
      "text/plain": [
       "['Arma_3.jsonlines',\n",
       " 'Counter_Strike.jsonlines',\n",
       " 'Counter_Strike_Global_Offensive.jsonlines',\n",
       " 'Dota_2.jsonlines',\n",
       " 'Football_Manager_2015.jsonlines',\n",
       " 'Garrys_Mod.jsonlines',\n",
       " 'Grand_Theft_Auto_V.jsonlines',\n",
       " 'Sid_Meiers_Civilization_5.jsonlines',\n",
       " 'Team_Fortress_2.jsonlines',\n",
       " 'The_Elder_Scrolls_V.jsonlines',\n",
       " 'Warframe.jsonlines']"
      ]
     },
     "execution_count": 4,
     "metadata": {},
     "output_type": "execute_result"
    }
   ],
   "source": [
    "file_list"
   ]
  },
  {
   "cell_type": "code",
   "execution_count": 5,
   "metadata": {
    "collapsed": true
   },
   "outputs": [],
   "source": [
    "#file_list_small = file_list [0:3]\n",
    "rev_all = pd.DataFrame()\n",
    "for file in file_list:\n",
    "    revision_file = str(path) + str(file)\n",
    "    with open(revision_file) as f:\n",
    "        data = []\n",
    "        for line in f:\n",
    "            data.append(json.loads(line))\n",
    "    rev_new = json_normalize(data)\n",
    "    rev_new['file'] = file\n",
    "    frames = [rev_all, rev_new]\n",
    "    rev_all = pd.concat(frames)"
   ]
  },
  {
   "cell_type": "code",
   "execution_count": 6,
   "metadata": {},
   "outputs": [
    {
     "data": {
      "text/plain": [
       "(79437, 30)"
      ]
     },
     "execution_count": 6,
     "metadata": {},
     "output_type": "execute_result"
    }
   ],
   "source": [
    "rev_all.shape"
   ]
  },
  {
   "cell_type": "code",
   "execution_count": 7,
   "metadata": {},
   "outputs": [
    {
     "data": {
      "text/html": [
       "<div>\n",
       "<style scoped>\n",
       "    .dataframe tbody tr th:only-of-type {\n",
       "        vertical-align: middle;\n",
       "    }\n",
       "\n",
       "    .dataframe tbody tr th {\n",
       "        vertical-align: top;\n",
       "    }\n",
       "\n",
       "    .dataframe thead th {\n",
       "        text-align: right;\n",
       "    }\n",
       "</style>\n",
       "<table border=\"1\" class=\"dataframe\">\n",
       "  <thead>\n",
       "    <tr style=\"text-align: right;\">\n",
       "      <th></th>\n",
       "      <th>achievement_progress.num_achievements_attained</th>\n",
       "      <th>achievement_progress.num_achievements_percentage</th>\n",
       "      <th>achievement_progress.num_achievements_possible</th>\n",
       "      <th>date_posted</th>\n",
       "      <th>date_updated</th>\n",
       "      <th>found_helpful_percentage</th>\n",
       "      <th>friend_player_level</th>\n",
       "      <th>num_badges</th>\n",
       "      <th>num_comments</th>\n",
       "      <th>num_found_funny</th>\n",
       "      <th>...</th>\n",
       "      <th>orig_url</th>\n",
       "      <th>profile_url</th>\n",
       "      <th>rating</th>\n",
       "      <th>review</th>\n",
       "      <th>review_url</th>\n",
       "      <th>steam_id_number</th>\n",
       "      <th>total_game_hours</th>\n",
       "      <th>total_game_hours_last_two_weeks</th>\n",
       "      <th>username</th>\n",
       "      <th>file</th>\n",
       "    </tr>\n",
       "  </thead>\n",
       "  <tbody>\n",
       "    <tr>\n",
       "      <th>0</th>\n",
       "      <td>NaN</td>\n",
       "      <td>NaN</td>\n",
       "      <td>NaN</td>\n",
       "      <td>Oct 31, 2014, 7:00AM</td>\n",
       "      <td>May 3, 2015, 2:28AM</td>\n",
       "      <td>0.948103</td>\n",
       "      <td>NaN</td>\n",
       "      <td>NaN</td>\n",
       "      <td>70</td>\n",
       "      <td>1</td>\n",
       "      <td>...</td>\n",
       "      <td>http://steamcommunity.com/app/107410/homeconte...</td>\n",
       "      <td>http://steamcommunity.com/id/thisisthefallout</td>\n",
       "      <td>Recommended</td>\n",
       "      <td>My first game on A3 brought me the most horrif...</td>\n",
       "      <td>http://steamcommunity.com/id/thisisthefallout/...</td>\n",
       "      <td>thisisthefallout</td>\n",
       "      <td>580.3</td>\n",
       "      <td>58.7</td>\n",
       "      <td>King Pootis</td>\n",
       "      <td>Arma_3.jsonlines</td>\n",
       "    </tr>\n",
       "    <tr>\n",
       "      <th>1</th>\n",
       "      <td>43.0</td>\n",
       "      <td>0.661538</td>\n",
       "      <td>65.0</td>\n",
       "      <td>May 17, 2014, 11:01AM</td>\n",
       "      <td>Sep 22, 2014, 9:17AM</td>\n",
       "      <td>0.947903</td>\n",
       "      <td>14.0</td>\n",
       "      <td>9.0</td>\n",
       "      <td>90</td>\n",
       "      <td>1</td>\n",
       "      <td>...</td>\n",
       "      <td>http://steamcommunity.com/app/107410/homeconte...</td>\n",
       "      <td>http://steamcommunity.com/id/PeaceFaker</td>\n",
       "      <td>Recommended</td>\n",
       "      <td>This is not a game for people who want fast ac...</td>\n",
       "      <td>http://steamcommunity.com/id/PeaceFaker/recomm...</td>\n",
       "      <td>PeaceFaker</td>\n",
       "      <td>122.2</td>\n",
       "      <td>2.8</td>\n",
       "      <td>Peace</td>\n",
       "      <td>Arma_3.jsonlines</td>\n",
       "    </tr>\n",
       "    <tr>\n",
       "      <th>2</th>\n",
       "      <td>15.0</td>\n",
       "      <td>0.288462</td>\n",
       "      <td>52.0</td>\n",
       "      <td>Sep 30, 2014, 8:55AM</td>\n",
       "      <td>Sep 30, 2014, 12:43PM</td>\n",
       "      <td>0.957048</td>\n",
       "      <td>31.0</td>\n",
       "      <td>36.0</td>\n",
       "      <td>51</td>\n",
       "      <td>1</td>\n",
       "      <td>...</td>\n",
       "      <td>http://steamcommunity.com/app/107410/homeconte...</td>\n",
       "      <td>http://steamcommunity.com/id/TheDanius</td>\n",
       "      <td>Recommended</td>\n",
       "      <td>Oh man. Where to even begin with this one. It ...</td>\n",
       "      <td>http://steamcommunity.com/id/TheDanius/recomme...</td>\n",
       "      <td>TheDanius</td>\n",
       "      <td>731.4</td>\n",
       "      <td>38.2</td>\n",
       "      <td>[13th] Danius</td>\n",
       "      <td>Arma_3.jsonlines</td>\n",
       "    </tr>\n",
       "    <tr>\n",
       "      <th>3</th>\n",
       "      <td>NaN</td>\n",
       "      <td>NaN</td>\n",
       "      <td>NaN</td>\n",
       "      <td>Jan 11, 2015, 7:21PM</td>\n",
       "      <td>None</td>\n",
       "      <td>0.928828</td>\n",
       "      <td>12.0</td>\n",
       "      <td>10.0</td>\n",
       "      <td>27</td>\n",
       "      <td>1</td>\n",
       "      <td>...</td>\n",
       "      <td>http://steamcommunity.com/app/107410/homeconte...</td>\n",
       "      <td>http://steamcommunity.com/id/ArtificialApple</td>\n",
       "      <td>Recommended</td>\n",
       "      <td>This is quite possibly the most emotional shoo...</td>\n",
       "      <td>http://steamcommunity.com/id/ArtificialApple/r...</td>\n",
       "      <td>ArtificialApple</td>\n",
       "      <td>291.8</td>\n",
       "      <td>25.2</td>\n",
       "      <td>ArtificialApple</td>\n",
       "      <td>Arma_3.jsonlines</td>\n",
       "    </tr>\n",
       "    <tr>\n",
       "      <th>4</th>\n",
       "      <td>149.0</td>\n",
       "      <td>0.892216</td>\n",
       "      <td>167.0</td>\n",
       "      <td>Oct 18, 2014, 11:58AM</td>\n",
       "      <td>None</td>\n",
       "      <td>0.883284</td>\n",
       "      <td>19.0</td>\n",
       "      <td>17.0</td>\n",
       "      <td>77</td>\n",
       "      <td>1</td>\n",
       "      <td>...</td>\n",
       "      <td>http://steamcommunity.com/app/107410/homeconte...</td>\n",
       "      <td>http://steamcommunity.com/profiles/76561198058...</td>\n",
       "      <td>Recommended</td>\n",
       "      <td>If you have friends, this is a great game to p...</td>\n",
       "      <td>http://steamcommunity.com/profiles/76561198058...</td>\n",
       "      <td>76561198058863036</td>\n",
       "      <td>46.8</td>\n",
       "      <td>0.1</td>\n",
       "      <td>Sir Quad Kill aka Sir Charlie</td>\n",
       "      <td>Arma_3.jsonlines</td>\n",
       "    </tr>\n",
       "  </tbody>\n",
       "</table>\n",
       "<p>5 rows × 30 columns</p>\n",
       "</div>"
      ],
      "text/plain": [
       "   achievement_progress.num_achievements_attained  \\\n",
       "0                                             NaN   \n",
       "1                                            43.0   \n",
       "2                                            15.0   \n",
       "3                                             NaN   \n",
       "4                                           149.0   \n",
       "\n",
       "   achievement_progress.num_achievements_percentage  \\\n",
       "0                                               NaN   \n",
       "1                                          0.661538   \n",
       "2                                          0.288462   \n",
       "3                                               NaN   \n",
       "4                                          0.892216   \n",
       "\n",
       "   achievement_progress.num_achievements_possible            date_posted  \\\n",
       "0                                             NaN   Oct 31, 2014, 7:00AM   \n",
       "1                                            65.0  May 17, 2014, 11:01AM   \n",
       "2                                            52.0   Sep 30, 2014, 8:55AM   \n",
       "3                                             NaN   Jan 11, 2015, 7:21PM   \n",
       "4                                           167.0  Oct 18, 2014, 11:58AM   \n",
       "\n",
       "            date_updated  found_helpful_percentage  friend_player_level  \\\n",
       "0    May 3, 2015, 2:28AM                  0.948103                  NaN   \n",
       "1   Sep 22, 2014, 9:17AM                  0.947903                 14.0   \n",
       "2  Sep 30, 2014, 12:43PM                  0.957048                 31.0   \n",
       "3                   None                  0.928828                 12.0   \n",
       "4                   None                  0.883284                 19.0   \n",
       "\n",
       "   num_badges  num_comments  num_found_funny        ...         \\\n",
       "0         NaN            70                1        ...          \n",
       "1         9.0            90                1        ...          \n",
       "2        36.0            51                1        ...          \n",
       "3        10.0            27                1        ...          \n",
       "4        17.0            77                1        ...          \n",
       "\n",
       "                                            orig_url  \\\n",
       "0  http://steamcommunity.com/app/107410/homeconte...   \n",
       "1  http://steamcommunity.com/app/107410/homeconte...   \n",
       "2  http://steamcommunity.com/app/107410/homeconte...   \n",
       "3  http://steamcommunity.com/app/107410/homeconte...   \n",
       "4  http://steamcommunity.com/app/107410/homeconte...   \n",
       "\n",
       "                                         profile_url       rating  \\\n",
       "0      http://steamcommunity.com/id/thisisthefallout  Recommended   \n",
       "1            http://steamcommunity.com/id/PeaceFaker  Recommended   \n",
       "2             http://steamcommunity.com/id/TheDanius  Recommended   \n",
       "3       http://steamcommunity.com/id/ArtificialApple  Recommended   \n",
       "4  http://steamcommunity.com/profiles/76561198058...  Recommended   \n",
       "\n",
       "                                              review  \\\n",
       "0  My first game on A3 brought me the most horrif...   \n",
       "1  This is not a game for people who want fast ac...   \n",
       "2  Oh man. Where to even begin with this one. It ...   \n",
       "3  This is quite possibly the most emotional shoo...   \n",
       "4  If you have friends, this is a great game to p...   \n",
       "\n",
       "                                          review_url    steam_id_number  \\\n",
       "0  http://steamcommunity.com/id/thisisthefallout/...   thisisthefallout   \n",
       "1  http://steamcommunity.com/id/PeaceFaker/recomm...         PeaceFaker   \n",
       "2  http://steamcommunity.com/id/TheDanius/recomme...          TheDanius   \n",
       "3  http://steamcommunity.com/id/ArtificialApple/r...    ArtificialApple   \n",
       "4  http://steamcommunity.com/profiles/76561198058...  76561198058863036   \n",
       "\n",
       "   total_game_hours  total_game_hours_last_two_weeks  \\\n",
       "0             580.3                             58.7   \n",
       "1             122.2                              2.8   \n",
       "2             731.4                             38.2   \n",
       "3             291.8                             25.2   \n",
       "4              46.8                              0.1   \n",
       "\n",
       "                        username              file  \n",
       "0                    King Pootis  Arma_3.jsonlines  \n",
       "1                          Peace  Arma_3.jsonlines  \n",
       "2                  [13th] Danius  Arma_3.jsonlines  \n",
       "3                ArtificialApple  Arma_3.jsonlines  \n",
       "4  Sir Quad Kill aka Sir Charlie  Arma_3.jsonlines  \n",
       "\n",
       "[5 rows x 30 columns]"
      ]
     },
     "execution_count": 7,
     "metadata": {},
     "output_type": "execute_result"
    }
   ],
   "source": [
    "rev_all.head()"
   ]
  },
  {
   "cell_type": "code",
   "execution_count": null,
   "metadata": {
    "collapsed": true
   },
   "outputs": [],
   "source": [
    "# with open('D:\\Courses\\Spring 2019\\ETA\\Project\\steam_reviews-master\\data\\*.jsonlines') as f:\n",
    "#     for line in f:\n",
    "#         data.append(json.loads(line))"
   ]
  },
  {
   "cell_type": "code",
   "execution_count": null,
   "metadata": {
    "collapsed": true
   },
   "outputs": [],
   "source": []
  }
 ],
 "metadata": {
  "kernelspec": {
   "display_name": "Python 3",
   "language": "python",
   "name": "python3"
  },
  "language_info": {
   "codemirror_mode": {
    "name": "ipython",
    "version": 3
   },
   "file_extension": ".py",
   "mimetype": "text/x-python",
   "name": "python",
   "nbconvert_exporter": "python",
   "pygments_lexer": "ipython3",
   "version": "3.6.3"
  }
 },
 "nbformat": 4,
 "nbformat_minor": 2
}
